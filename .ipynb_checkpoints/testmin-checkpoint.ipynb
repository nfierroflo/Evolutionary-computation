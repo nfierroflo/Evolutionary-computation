{
 "cells": [
  {
   "cell_type": "code",
   "execution_count": 1,
   "id": "bbc5c5ec-6c97-49fe-bfd7-0ef79ef9a33a",
   "metadata": {},
   "outputs": [],
   "source": [
    "from scipy.optimize import minimize\n",
    "import numpy as np\n",
    "import math\n",
    "import matplotlib.pyplot as plt\n",
    "import sympy as sp"
   ]
  },
  {
   "cell_type": "code",
   "execution_count": 2,
   "id": "fdb07a6f-e42a-490d-a371-2d88701a4a16",
   "metadata": {},
   "outputs": [],
   "source": [
    "def sigmoid(x):\n",
    "  \n",
    "    z = np.exp(-x)\n",
    "    sig = 1 / (1 + z)\n",
    "\n",
    "    return sig"
   ]
  },
  {
   "cell_type": "code",
   "execution_count": 3,
   "id": "ab084b66",
   "metadata": {},
   "outputs": [],
   "source": [
    "def root_mean_squared_error(true, pred):\n",
    "    squared_error = np.square(true - pred) \n",
    "    sum_squared_error = np.sum(squared_error)\n",
    "    rmse_loss = np.sqrt(sum_squared_error / true.size)\n",
    "    return rmse_loss"
   ]
  },
  {
   "cell_type": "code",
   "execution_count": 4,
   "id": "69f0d43e-d7a1-430f-8387-cc792cd3241a",
   "metadata": {},
   "outputs": [],
   "source": [
    "import numpy as np\n",
    "limitInner = [-20, 20]\n",
    "n_train = 21\n",
    "t1=np.linspace(*limitInner,n_train)\n",
    "\n",
    "limitInner = [21, 80]\n",
    "n_train = 60\n",
    "t2=np.linspace(*limitInner,n_train)\n",
    "\n",
    "limitInner = [81, 100]\n",
    "n_train = 10\n",
    "t3=np.linspace(*limitInner,n_train)\n",
    "t=np.concatenate((t1,t2,t3))"
   ]
  },
  {
   "cell_type": "code",
   "execution_count": 5,
   "id": "5ab8816a-d885-4c8c-baf7-77dded075d5f",
   "metadata": {},
   "outputs": [
    {
     "name": "stdout",
     "output_type": "stream",
     "text": [
      "34.0 0.0890832629765388\n"
     ]
    },
    {
     "data": {
      "image/png": "[encoded data removed]",
      "text/plain": [
       "<Figure size 432x288 with 1 Axes>"
      ]
     },
     "metadata": {
      "needs_background": "light"
     },
     "output_type": "display_data"
    }
   ],
   "source": [
    "A=0.18\n",
    "t0=33.941\n",
    "gamma=18.975\n",
    "beta=0.666\n",
    "trise=13.416\n",
    "tfall=40.076\n",
    "fnc1 = lambda t:(A*(1-beta)*np.exp(-(t-(gamma+t0))/tfall)/(1+np.exp(-(t-t0)/trise)))\n",
    "fnc2 = lambda t:(A*(1-beta*(t-t0)/gamma)/(1+np.exp(-(t-t0)/trise)))\n",
    "ylate=fnc1(t)\n",
    "yearly=fnc2(t)\n",
    "aux=0.2*(t-(gamma+t0))\n",
    "gt=sigmoid(aux)\n",
    "Totalv2=yearly*(1-gt)+ylate*gt\n",
    "print(t[np.argmax(Totalv2)],Totalv2[np.argmax(Totalv2)])\n",
    "plt.plot(t,Totalv2,'o')\n",
    "plt.grid()"
   ]
  },
  {
   "cell_type": "code",
   "execution_count": 6,
   "id": "6be57626-70d3-492d-bb1d-6a4999c93559",
   "metadata": {},
   "outputs": [],
   "source": [
    "fun = lambda cte : eval(\"np.linalg.norm(cte[0]*np.array([1,2])-cte[1]*np.array([4,8]))\")\n",
    "res = minimize(fun,(1,0), method='SLSQP',jac=False)"
   ]
  },
  {
   "cell_type": "code",
   "execution_count": 7,
   "id": "79f05333-6545-4b09-9b3f-a8aca2f605bc",
   "metadata": {},
   "outputs": [],
   "source": [
    "arg=res.x"
   ]
  },
  {
   "cell_type": "code",
   "execution_count": 8,
   "id": "051b3dfa-eaf2-4a62-a0ca-945cd956c2e3",
   "metadata": {},
   "outputs": [
    {
     "data": {
      "text/plain": [
       "array([0.94117652, 0.23529391])"
      ]
     },
     "execution_count": 8,
     "metadata": {},
     "output_type": "execute_result"
    }
   ],
   "source": [
    "arg"
   ]
  },
  {
   "cell_type": "code",
   "execution_count": 9,
   "id": "79e1f053-ddfd-4bbb-8301-321a4d052af5",
   "metadata": {},
   "outputs": [
    {
     "data": {
      "text/plain": [
       "4"
      ]
     },
     "execution_count": 9,
     "metadata": {},
     "output_type": "execute_result"
    }
   ],
   "source": [
    "c=[1,2,3,4,5]\n",
    "eval(\"c[0]+c[2]\")\n"
   ]
  },
  {
   "cell_type": "code",
   "execution_count": 10,
   "id": "ba085ee4-e86b-44ef-8c93-8413913b722b",
   "metadata": {},
   "outputs": [],
   "source": [
    "def str_to_expr(text):\n",
    "    text = text.replace(\"|_div_|\", \"/\")\n",
    "    text = text.replace(\"_exp_\", \"np.exp\")\n",
    "    text = text.replace(\"_sig_\", \"sigmoid\")\n",
    "    text = text.replace(\"x[0]\", \"t\")\n",
    "    return text"
   ]
  },
  {
   "cell_type": "code",
   "execution_count": 11,
   "id": "b9302ed0-6853-47f5-9565-ff00c3ae15d8",
   "metadata": {},
   "outputs": [],
   "source": [
    "text=\"c[0]*((1-c[3]*(x[0]-33.941)|_div_|c[4])*(1-_sig_(0.2*(x[0]-(c[2]+33.941))))+(1-c[3])*_exp_((c[1]+33.941-x[0])|_div_|c[2])*_sig_(0.2*(x[0]-(c[0]+33.941))))|_div_|(1+_exp_((33.941-x[0])|_div_|c[2]))\"\n",
    "c=[A,t0,gamma,beta,trise,tfall]"
   ]
  },
  {
   "cell_type": "code",
   "execution_count": 12,
   "id": "54cbad55-6992-440b-8024-dc43b2224255",
   "metadata": {},
   "outputs": [
    {
     "data": {
      "image/png": "[encoded data removed]",
      "text/plain": [
       "<Figure size 432x288 with 1 Axes>"
      ]
     },
     "metadata": {
      "needs_background": "light"
     },
     "output_type": "display_data"
    }
   ],
   "source": [
    "fun = lambda c : eval(str_to_expr(text))\n",
    "fun(c)\n",
    "plt.plot(t,fun(c),'o')\n",
    "plt.plot(t,Totalv2,'o')\n",
    "plt.grid()"
   ]
  },
  {
   "cell_type": "code",
   "execution_count": 13,
   "id": "01cc6498-6d76-4ca8-97dd-c1598c1e22ec",
   "metadata": {},
   "outputs": [],
   "source": [
    "funobj= lambda c :root_mean_squared_error(Totalv2,fun(c))"
   ]
  },
  {
   "cell_type": "code",
   "execution_count": 14,
   "id": "2a24e6c8-1a42-4807-a922-291ec3bfce21",
   "metadata": {},
   "outputs": [
    {
     "data": {
      "text/plain": [
       "0.05063135804082905"
      ]
     },
     "execution_count": 14,
     "metadata": {},
     "output_type": "execute_result"
    }
   ],
   "source": [
    "funobj(c)"
   ]
  },
  {
   "cell_type": "code",
   "execution_count": 15,
   "id": "f7978215-36e5-43d7-aa7b-5fb7aef53c87",
   "metadata": {},
   "outputs": [],
   "source": [
    "res = minimize(funobj,c, method='SLSQP',jac=False)"
   ]
  },
  {
   "cell_type": "code",
   "execution_count": 16,
   "id": "14b4036e-839e-46f0-9d49-e85fa4342b93",
   "metadata": {},
   "outputs": [],
   "source": [
    "c=res.x"
   ]
  },
  {
   "cell_type": "code",
   "execution_count": 17,
   "id": "758cbed6",
   "metadata": {},
   "outputs": [
    {
     "data": {
      "image/png": "[encoded data removed]",
      "text/plain": [
       "<Figure size 432x288 with 1 Axes>"
      ]
     },
     "metadata": {
      "needs_background": "light"
     },
     "output_type": "display_data"
    }
   ],
   "source": [
    "fun = lambda c : eval(str_to_expr(text))\n",
    "fun(c)\n",
    "plt.plot(t,fun(c),'o',c='g')\n",
    "plt.plot(t,Totalv2,'o',c='r')\n",
    "plt.grid()"
   ]
  },
  {
   "cell_type": "code",
   "execution_count": 18,
   "id": "9e705102",
   "metadata": {},
   "outputs": [],
   "source": [
    "def relative_root_mean_squared_error(true, pred):\n",
    "    num = np.sum(np.square(true - pred))\n",
    "    den = np.sum(np.square(pred))\n",
    "    squared_error = num/den\n",
    "    rrmse_loss = np.sqrt(squared_error)\n",
    "    return rrmse_loss"
   ]
  },
  {
   "cell_type": "code",
   "execution_count": 19,
   "id": "a424b556",
   "metadata": {},
   "outputs": [],
   "source": [
    "from scipy.optimize import minimize\n",
    "import numpy as np\n",
    "import math\n",
    "import matplotlib.pyplot as plt\n",
    "\n",
    "\n",
    "def relative_root_mean_squared_error(true, pred):\n",
    "    \n",
    "    num = np.sum(np.square(true - pred))\n",
    "    den = np.sum(np.square(pred))\n",
    "    squared_error = num/den\n",
    "    rrmse_loss = np.sqrt(squared_error)\n",
    "\n",
    "    return rrmse_loss\n",
    "\n",
    "def sigmoid(x):\n",
    "    z = np.exp(-x)\n",
    "    sig = 1 / (1 + z)\n",
    "    return sig\n",
    "\n",
    "def str_to_expr(text):\n",
    "    text = text.replace(\"|_div_|\", \"/\")\n",
    "    text = text.replace(\"_exp_\", \"np.exp\")\n",
    "    text = text.replace(\"_sig_\", \"sigmoid\")\n",
    "    text = text.replace(\"x[0]\", \"t\")\n",
    "    text = text.replace(\"x[0]\", \"t\")\n",
    "    return text\n",
    "\n",
    "def simplify_expr(text,new_c):\n",
    "    [A,t0,gamma,beta,trise,tfall]=new_c\n",
    "    t = sp.Symbol('t')\n",
    "    text = text.replace(\"|_div_|\", \"/\")\n",
    "    text = text.replace(\"_exp_\", \"exp\")\n",
    "    text = text.replace(\"_sig_\", \"sigmoide\")\n",
    "    text = text.replace(\"x[0]\", \"t\")\n",
    "    text = text.replace(\"cte[0]\", str(c[0]))\n",
    "    text = text.replace(\"cte[1]\", str(c[1]))\n",
    "    text = text.replace(\"cte[2]\", str(c[2]))\n",
    "    text = text.replace(\"cte[3]\", str(c[3]))\n",
    "    text = text.replace(\"cte[4]\", str(c[4]))\n",
    "    text = text.replace(\"cte[5]\", str(c[5]))\n",
    "    return sp.simplify(text)\n",
    "\n",
    "def optIndividual(x_array,y_array,individual,old_c):\n",
    "    t=x_array\n",
    "\n",
    "    fun = lambda cte : eval(str_to_expr(individual),{\"cte\":cte,\"t\":x_array,\"sigmoid\":sigmoid,\"np\":np})\n",
    "    funobj= lambda cte :relative_root_mean_squared_error(y_array,fun(cte))\n",
    "    res = minimize(funobj,old_c, method='SLSQP',jac=False)\n",
    "\n",
    "    new_c = res.x\n",
    "    print(res)\n",
    "\n",
    "    new_output = fun(new_c)\n",
    "\n",
    "    RRMSE=res.fun\n",
    "    return new_c,new_output,RRMSE"
   ]
  },
  {
   "cell_type": "code",
   "execution_count": 20,
   "id": "3da6eacc",
   "metadata": {},
   "outputs": [
    {
     "name": "stdout",
     "output_type": "stream",
     "text": [
      "     fun: 0.1490918541395692\n",
      "     jac: array([-0.02576502, -0.00017526,  0.00015018,  0.12363381, -0.02693673,\n",
      "        0.        ])\n",
      " message: 'Optimization terminated successfully'\n",
      "    nfev: 702\n",
      "     nit: 92\n",
      "    njev: 92\n",
      "  status: 0\n",
      " success: True\n",
      "       x: array([3.52937406e-02, 3.90003336e+01, 1.74693153e+01, 3.17827445e-03,\n",
      "       1.40620199e-02, 4.00760000e+01])\n",
      "     fun: 0.1490918541395692\n",
      "     jac: array([-0.02576502, -0.00017526,  0.00015018,  0.12363381, -0.02693673,\n",
      "        0.        ])\n",
      " message: 'Optimization terminated successfully'\n",
      "    nfev: 702\n",
      "     nit: 92\n",
      "    njev: 92\n",
      "  status: 0\n",
      " success: True\n",
      "       x: array([3.52937406e-02, 3.90003336e+01, 1.74693153e+01, 3.17827445e-03,\n",
      "       1.40620199e-02, 4.00760000e+01])\n",
      "[3.52937406e-02 3.90003336e+01 1.74693153e+01 3.17827445e-03\n",
      " 1.40620199e-02 4.00760000e+01]\n"
     ]
    }
   ],
   "source": [
    "indiv1=\"cte[0]*((1-cte[3]*(x[0]-33.941)|_div_|cte[4])*(1-_sig_(0.2*(x[0]-(cte[2]+33.941))))+(1-cte[3])*_exp_((cte[1]+33.941-x[0])|_div_|cte[2])*_sig_(0.2*(x[0]-(cte[0]+33.941))))|_div_|(1+_exp_((33.941-x[0])|_div_|cte[2]))\"\n",
    "indiv2=\"cte[0]*((1-cte[3]*(x[0]-33.941)|_div_|cte[4])*(1-_sig_(0.2*(x[0]-(cte[2]+33.941))))+(1-cte[3])*_exp_((cte[1]+33.941-x[0])|_div_|cte[2])*_sig_(0.2*(x[0]-(cte[0]+33.941))))|_div_|(1+_exp_((33.941-x[0])|_div_|cte[2]))\"\n",
    "\n",
    "A=0.18\n",
    "t0=33.941\n",
    "gamma=18.975\n",
    "beta=0.666\n",
    "trise=13.416\n",
    "tfall=40.076\n",
    "new_c,new_output_1,RRMSE = optIndividual(t,Totalv2,indiv1,[A,t0,gamma,beta,trise,tfall])\n",
    "new_c,new_output_2,RRMSE = optIndividual(t,Totalv2,indiv2,[A,t0,gamma,beta,trise,tfall])\n",
    "print(new_c)\n"
   ]
  },
  {
   "cell_type": "code",
   "execution_count": 21,
   "id": "4d4ee301",
   "metadata": {},
   "outputs": [
    {
     "data": {
      "image/png": "[encoded data removed]",
      "text/plain": [
       "<Figure size 432x288 with 1 Axes>"
      ]
     },
     "metadata": {
      "needs_background": "light"
     },
     "output_type": "display_data"
    }
   ],
   "source": [
    "plt.plot(t,new_output_1,'o',c='g')\n",
    "plt.plot(t,new_output_2,'o',c='b')\n",
    "plt.plot(t,Totalv2,'o',c='r')\n",
    "plt.grid()"
   ]
  },
  {
   "cell_type": "code",
   "execution_count": 22,
   "id": "5c7b5d74",
   "metadata": {},
   "outputs": [
    {
     "name": "stdout",
     "output_type": "stream",
     "text": [
      "     fun: 0.1611809489802315\n",
      "     jac: array([ 3.18900123e-03,  0.00000000e+00,  1.45060942e-04, -2.92630866e-04,\n",
      "        3.95160168e-05, -1.35740265e-04])\n",
      " message: 'Optimization terminated successfully'\n",
      "    nfev: 153\n",
      "     nit: 20\n",
      "    njev: 20\n",
      "  status: 0\n",
      " success: True\n",
      "       x: array([ 0.07461002, 33.941     , 13.97594957, -0.72509867, 18.57422694,\n",
      "       40.56979927])\n",
      "[ 0.07461002 33.941      13.97594957 -0.72509867 18.57422694 40.56979927]\n"
     ]
    },
    {
     "data": {
      "image/png": "[encoded data removed]",
      "text/plain": [
       "<Figure size 432x288 with 1 Axes>"
      ]
     },
     "metadata": {
      "needs_background": "light"
     },
     "output_type": "display_data"
    }
   ],
   "source": [
    "indiv1=\"cte[0]*((1-cte[0]*(x[0]-cte[5])|_div_|cte[4])*(1-_sig_(0.2*(x[0]-(cte[5]+cte[2]))))+(1-cte[0])*_exp_((cte[0]+cte[2]-x[0])|_div_|cte[5])*_sig_(0.2*(x[0]-(cte[2]+cte[3]))))|_div_|(1+_exp_((cte[2]-x[0])|_div_|cte[4]))\"\n",
    "A=0.18\n",
    "t0=33.941\n",
    "gamma=18.975\n",
    "beta=0.666\n",
    "trise=13.416\n",
    "tfall=40.076\n",
    "new_c,new_output_1,RRMSE = optIndividual(t,Totalv2,indiv1,[A,t0,gamma,beta,trise,tfall])\n",
    "#new_c,new_output_2,RRMSE = optIndividual(t,Totalv2,indiv2,[A,t0,gamma,beta,trise,tfall])\n",
    "plt.plot(t,new_output_1,'o',c='g')\n",
    "#plt.plot(t,new_output_2,'o',c='b')\n",
    "plt.plot(t,Totalv2,'o',c='r')\n",
    "plt.grid()\n",
    "print(new_c)"
   ]
  },
  {
   "cell_type": "code",
   "execution_count": 23,
   "id": "6e5aa810",
   "metadata": {},
   "outputs": [
    {
     "name": "stdout",
     "output_type": "stream",
     "text": [
      "     fun: 0.03952289494842947\n",
      "     jac: array([ 2.34712418e-02,  3.22344713e-05,  6.17541373e-05, -1.90315768e-06,\n",
      "        5.01714181e-04, -3.48370988e-04])\n",
      " message: 'Optimization terminated successfully'\n",
      "    nfev: 326\n",
      "     nit: 43\n",
      "    njev: 43\n",
      "  status: 0\n",
      " success: True\n",
      "       x: array([ 0.06557579, 33.53547504, -4.97989431, 18.76353086, 24.35897768,\n",
      "       51.01278562])\n",
      "[ 0.06557579 33.53547504 -4.97989431 18.76353086 24.35897768 51.01278562]\n"
     ]
    },
    {
     "data": {
      "image/png": "[encoded data removed]",
      "text/plain": [
       "<Figure size 432x288 with 1 Axes>"
      ]
     },
     "metadata": {
      "needs_background": "light"
     },
     "output_type": "display_data"
    }
   ],
   "source": [
    "indiv1=\"cte[0]*((1-cte[0]*(x[0]-cte[5])|_div_|cte[1])*(1-_sig_(0.2*(x[0]-(cte[5]+cte[2]))))+(1-cte[0])*_exp_((cte[3]+cte[4]-x[0])|_div_|cte[5])*_sig_(0.2*(x[0]-(cte[3]+cte[2]))))|_div_|(1+_exp_((cte[3]-x[0])|_div_|cte[4]))\"\n",
    "A=0.18\n",
    "t0=33.941\n",
    "gamma=18.975\n",
    "beta=0.666\n",
    "trise=13.416\n",
    "tfall=40.076\n",
    "new_c,new_output_1,RRMSE = optIndividual(t,Totalv2,indiv1,[A,t0,gamma,beta,trise,tfall])\n",
    "#new_c,new_output_2,RRMSE = optIndividual(t,Totalv2,indiv2,[A,t0,gamma,beta,trise,tfall])\n",
    "plt.plot(t,new_output_1,'o',c='g')\n",
    "#plt.plot(t,new_output_2,'o',c='b')\n",
    "plt.plot(t,Totalv2,'o',c='r')\n",
    "plt.grid()\n",
    "print(new_c)"
   ]
  },
  {
   "cell_type": "code",
   "execution_count": 24,
   "id": "d15fdda7",
   "metadata": {},
   "outputs": [
    {
     "data": {
      "text/latex": [
       "$\\displaystyle \\frac{\\left(0.09433131605851289 \\cdot \\left(0.002779284497651615 t - 1.111382605527886\\right) \\left(\\operatorname{sigmoide}{\\left(0.2 t - 11.810269285815102 \\right)} - 1\\right) e^{0.0249525900788502 t} + 0.12142412611040323 \\operatorname{sigmoide}{\\left(0.2 t - 3.9296930110841778 \\right)}\\right) e^{0.049585699049269704 t}}{e^{0.074538289128119888 t} + 1.0514530984967877}$"
      ],
      "text/plain": [
       "(0.09433131605851289*(0.002779284497651615*t - 1.111382605527886)*(sigmoide(0.2*t - 11.810269285815102) - 1)*exp(0.0249525900788502*t) + 0.12142412611040323*sigmoide(0.2*t - 3.9296930110841778))*exp(0.049585699049269704*t)/(exp(0.074538289128119888*t) + 1.0514530984967877)"
      ]
     },
     "execution_count": 24,
     "metadata": {},
     "output_type": "execute_result"
    }
   ],
   "source": [
    "simplify_expr(indiv1,new_c)"
   ]
  },
  {
   "cell_type": "code",
   "execution_count": null,
   "id": "95726261",
   "metadata": {},
   "outputs": [],
   "source": [
    "\"(0.544*(1-0.625*(11.33-38.8)|_div_|13.42)|_div_|(1+_exp_((36.9-x[0])|_div_|79.46)))*(1-_sig_(0.2*(x[0]-(94.03+33.1))))+0.866*(1-0.068)*_exp_((87.65+32.8-x[0])|_div_|39.03)|_div_|(1+_exp_((35.6-x[0])|_div_|03.89))*_sig_(0.2*(x[0]-(03.31+34.2)))\"\n"
   ]
  }
 ],
 "metadata": {
  "kernelspec": {
   "display_name": "Python 3 (ipykernel)",
   "language": "python",
   "name": "python3"
  },
  "language_info": {
   "codemirror_mode": {
    "name": "ipython",
    "version": 3
   },
   "file_extension": ".py",
   "mimetype": "text/x-python",
   "name": "python",
   "nbconvert_exporter": "python",
   "pygments_lexer": "ipython3",
   "version": "3.9.12"
  }
 },
 "nbformat": 4,
 "nbformat_minor": 5
}
